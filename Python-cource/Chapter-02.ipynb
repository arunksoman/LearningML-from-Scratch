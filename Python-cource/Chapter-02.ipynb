{
 "cells": [
  {
   "cell_type": "markdown",
   "metadata": {},
   "source": [
    "## Run Python File\n",
    "* Python IDE comes with 3 options:\n",
    "1. Interactive Interpreter in python IDE\n",
    "2. Command line interactive interpreter\n",
    "3. GUI with run button.\n",
    "4. Run python file from command line\n",
    "* As we opens python IDE it will first prompt python interactive interpreter \n",
    "  \n",
    "  \\>>>a = 5\n",
    "  \n",
    "  \n",
    "  You can write program after these 3 right angled arrows. As you hit enter after each line of code it will prompt results for you. But it is **not a good practice to write entire program here since looping is tedious here**.\n",
    "* Command line version of interpreter can be open up with using python3 or python2 command.\n",
    "* You have to create a **.py file** to run the program from python IDE.\n",
    "* We can also run python file from command line using **python filename.py** command."
   ]
  },
  {
   "cell_type": "markdown",
   "metadata": {},
   "source": [
    "## Identifiers\n",
    "* Name used to identify varible, function, class, mo dule or any other object.\n",
    "* Python is case sensitive so uppercase and lowercase letters are distinct.\n",
    "### Rules for naming identifiers\n",
    "1. Can be combination of letters from A-Z or a-z or digits(0-9) or an underscore(_).\n",
    "2. Reserved keywords cannot be used as an identifier.\n",
    "3. **Identifiers cannot begin with digits**\n",
    "4. **Special symbols like @, !, #, &#36;, \\% etc. cannot be used as an identifier**. For example *sum@*, #total are invalid identifiers.\n",
    "5. identifier can be of any length.\n",
    "6. By convention class names starts with uppercase letter. All other identifiers start with lowercase letter.\n",
    "7. **starting an identifier with single leading underscoreindicates that identifier is private**.\n",
    "8. **Identifier with 2 leading underscore is known as _dunders_. Which indicates that i dentifier is strongly private.**\n",
    "9. If the identifier with two trailing underscores and or starts with two underscores, the **identifier is a language defined special name**."
   ]
  },
  {
   "cell_type": "markdown",
   "metadata": {},
   "source": [
    "## Reserved Keywords\n",
    "* The keywords are reserved words they cannot be used in program as an identifier as mentioned earlier. The reserved keywords can be found using following method. There is 35 keywords in Python."
   ]
  },
  {
   "cell_type": "code",
   "execution_count": 1,
   "metadata": {},
   "outputs": [
    {
     "name": "stdout",
     "output_type": "stream",
     "text": [
      "['False', 'None', 'True', 'and', 'as', 'assert', 'async', 'await', 'break', 'class', 'continue', 'def', 'del', 'elif', 'else', 'except', 'finally', 'for', 'from', 'global', 'if', 'import', 'in', 'is', 'lambda', 'nonlocal', 'not', 'or', 'pass', 'raise', 'return', 'try', 'while', 'with', 'yield']\n"
     ]
    }
   ],
   "source": [
    "import keyword\n",
    "print(keyword.kwlist)"
   ]
  },
  {
   "cell_type": "markdown",
   "metadata": {},
   "source": [
    "## Variable Assignment\n",
    "* Variables are reserved memory locations to store values.\n",
    "* In Python variables are like cup since a cup can contain any kind of liquid or solid for example tea, coffee, pen etc.. We can fill whatever we want in this cup(variable).\n",
    "* So Python variables are **loosely typed** just like variables of PHP and JS.\n",
    "* Variables also can be classified as **strictly typed**. We can see lot of programming languages with strictly typed variables like C, Java, C++ etc.\n",
    "* Value is assigned to a variable using assignment operator '='\n",
    "* The variable assignment can be done in several ways"
   ]
  },
  {
   "cell_type": "code",
   "execution_count": 2,
   "metadata": {},
   "outputs": [
    {
     "name": "stdout",
     "output_type": "stream",
     "text": [
      "6\n"
     ]
    }
   ],
   "source": [
    "a = 6\n",
    "print(a)"
   ]
  },
  {
   "cell_type": "code",
   "execution_count": 3,
   "metadata": {},
   "outputs": [
    {
     "name": "stdout",
     "output_type": "stream",
     "text": [
      "a =  8 ,b =  8 and c =  8\n"
     ]
    }
   ],
   "source": [
    "a = b = c = 8\n",
    "print(\"a = \",a,\",b = \",b, \"and c = \",c)"
   ]
  },
  {
   "cell_type": "code",
   "execution_count": 4,
   "metadata": {},
   "outputs": [
    {
     "name": "stdout",
     "output_type": "stream",
     "text": [
      "a =  1 ,b =  2 and c =  3\n"
     ]
    }
   ],
   "source": [
    "a, b, c = 1, 2, 3\n",
    "print(\"a = \",a,\",b = \",b, \"and c = \",c)"
   ]
  },
  {
   "cell_type": "markdown",
   "metadata": {},
   "source": [
    "## Print Statement\n",
    "* print statement can be written with the help of single quotes('') or double quotes(\"\").\n",
    "* Why Python comes with these two options???\n",
    "* In some statements there will be single quotes or double quotes. In order to print those statements we can use double quotes and single quotes interchangeably."
   ]
  },
  {
   "cell_type": "code",
   "execution_count": 5,
   "metadata": {},
   "outputs": [
    {
     "name": "stdout",
     "output_type": "stream",
     "text": [
      "Byju's Learning App is good for students\n"
     ]
    }
   ],
   "source": [
    "print(\"Byju's Learning App is good for students\")"
   ]
  },
  {
   "cell_type": "code",
   "execution_count": 6,
   "metadata": {},
   "outputs": [
    {
     "name": "stdout",
     "output_type": "stream",
     "text": [
      "Anuja said: \"Arun is fool\"\n"
     ]
    }
   ],
   "source": [
    "print('Anuja said: \"Arun is fool\"');"
   ]
  },
  {
   "cell_type": "code",
   "execution_count": 7,
   "metadata": {},
   "outputs": [
    {
     "name": "stdout",
     "output_type": "stream",
     "text": [
      "Using tripple quotes we can\n",
      "print in more than\n",
      "one line \n"
     ]
    }
   ],
   "source": [
    "print(\"\"\"Using tripple quotes we can\n",
    "print in more than\n",
    "one line \"\"\")\n",
    "# in python triple quotes are used to spanning around several lines"
   ]
  },
  {
   "cell_type": "code",
   "execution_count": 8,
   "metadata": {},
   "outputs": [
    {
     "name": "stdout",
     "output_type": "stream",
     "text": [
      "hello arun\n"
     ]
    }
   ],
   "source": [
    "print(\"hello\"\n",
    "      + \" arun\") \n",
    "# Concatinating outputs in several lines"
   ]
  },
  {
   "cell_type": "markdown",
   "metadata": {},
   "source": [
    "## Is Python supports C like formatting of print statement?\n",
    "Yes. Python supports c like print formatting. But we have to pass values as tuples. If there is only one variable to pass in tuple."
   ]
  },
  {
   "cell_type": "code",
   "execution_count": 9,
   "metadata": {},
   "outputs": [
    {
     "name": "stdout",
     "output_type": "stream",
     "text": [
      "a is 5 and b is 6.900000\n"
     ]
    }
   ],
   "source": [
    "a = 5\n",
    "b = 6.9\n",
    "print(\"a is %d and b is %f\"%(a,b))"
   ]
  },
  {
   "cell_type": "code",
   "execution_count": 10,
   "metadata": {},
   "outputs": [
    {
     "name": "stdout",
     "output_type": "stream",
     "text": [
      "a is 5\n"
     ]
    }
   ],
   "source": [
    "print(\"a is %d\"%(a))"
   ]
  },
  {
   "cell_type": "markdown",
   "metadata": {},
   "source": [
    "## Reading the Input\n",
    "Python comes with **raw_input** and **input** read text from keyboard. **raw_input** does not supports most of the 3.x versions of python."
   ]
  },
  {
   "cell_type": "code",
   "execution_count": 11,
   "metadata": {},
   "outputs": [
    {
     "ename": "NameError",
     "evalue": "name 'raw_input' is not defined",
     "output_type": "error",
     "traceback": [
      "\u001b[0;31m------------------------------------------------------------\u001b[0m",
      "\u001b[0;31mNameError\u001b[0m                  Traceback (most recent call last)",
      "\u001b[0;32m<ipython-input-11-e046e04b5685>\u001b[0m in \u001b[0;36m<module>\u001b[0;34m\u001b[0m\n\u001b[0;32m----> 1\u001b[0;31m \u001b[0mstr\u001b[0m \u001b[0;34m=\u001b[0m \u001b[0mraw_input\u001b[0m\u001b[0;34m(\u001b[0m\u001b[0;34m\"Enter your name: \"\u001b[0m\u001b[0;34m)\u001b[0m\u001b[0;34m\u001b[0m\u001b[0;34m\u001b[0m\u001b[0m\n\u001b[0m\u001b[1;32m      2\u001b[0m \u001b[0mprint\u001b[0m\u001b[0;34m(\u001b[0m\u001b[0;34m\"Your name is \"\u001b[0m\u001b[0;34m,\u001b[0m\u001b[0mstr\u001b[0m\u001b[0;34m)\u001b[0m\u001b[0;34m\u001b[0m\u001b[0;34m\u001b[0m\u001b[0m\n",
      "\u001b[0;31mNameError\u001b[0m: name 'raw_input' is not defined"
     ]
    }
   ],
   "source": [
    "str = raw_input(\"Enter your name: \")\n",
    "print(\"Your name is \",str)"
   ]
  },
  {
   "cell_type": "markdown",
   "metadata": {},
   "source": [
    "The error thrown back is due to this Python notebook server does not support raw_input."
   ]
  },
  {
   "cell_type": "code",
   "execution_count": 12,
   "metadata": {},
   "outputs": [
    {
     "name": "stdout",
     "output_type": "stream",
     "text": [
      "Enter Your name: Arun\n",
      "Your name is  Arun\n"
     ]
    }
   ],
   "source": [
    "str = input(\"Enter Your name: \")\n",
    "print(\"Your name is \",str)"
   ]
  },
  {
   "cell_type": "markdown",
   "metadata": {},
   "source": [
    "As I mentioned earlier input function is ment for read text from keybord. So we cant read digits as we wish from keyboard. So type casting is important for reading keyboard. You can get this idea from following example."
   ]
  },
  {
   "cell_type": "code",
   "execution_count": 13,
   "metadata": {},
   "outputs": [
    {
     "name": "stdout",
     "output_type": "stream",
     "text": [
      "Enter a number: 5\n",
      "<class 'str'>\n",
      "Enter a number: 7\n",
      "<class 'int'>\n"
     ]
    }
   ],
   "source": [
    "num1 = input(\"Enter a number: \")\n",
    "print(type(num1))\n",
    "num2 = int(input(\"Enter a number: \")) #type casting to integer\n",
    "print(type(num2))"
   ]
  },
  {
   "cell_type": "markdown",
   "metadata": {},
   "source": [
    "## Operators\n",
    "* Operators are the constructs which can manipulate the value of operands. Python supports following operands:\n",
    "1. Arithmetic Operators\n",
    "2. Comparison(Relational) operators\n",
    "3. Assignment Operators\n",
    "4. Logical Operators\n",
    "5. Bitwise Operators\n",
    "6. Membership Operators\n",
    "7. Identity Operators"
   ]
  },
  {
   "cell_type": "markdown",
   "metadata": {},
   "source": [
    "### Arithmetic Operators\n",
    "\n",
    "| Operator | Operation| Description |\n",
    "|:----------:|:----------:|:----------:|\n",
    "|    +        |     Addition       |      Adds Values on either side of operator      |\n",
    "|     -       |     Substraction       |    Subtract right hand operand from left hand operator        |\n",
    "|     *       |     Multiplication       |      Multiplies values on either sides of operator      |\n",
    "|      /      |       Division     |     Divides left hand operand and right hand operand       |\n",
    "|      %      |       Modulus     |       Divides left hand operand by right hand operand and returns remainder     |\n",
    "|     **       |    Exponent        |     Performs exponential(power) calculation on operators       |\n",
    "|       //     |     Floor Division       |     The division of operands where result is the quotient in which the digits after the decimal point are removed       |\n"
   ]
  },
  {
   "cell_type": "markdown",
   "metadata": {},
   "source": [
    "### Comparison Operator\n",
    "\n",
    "| Operation | Description |\n",
    "|:----------:|:----------:|\n",
    "|      ==      |      If the values of operand are equal, then the condition becomes true      |\n",
    "|      !=      |     If the values of two operands are not equal, then condition becomes true       |\n",
    "|      >      |     If the value of left operand is greater than the value of left operand, then condition becomes true       |\n",
    "|      <      |      If the value of left operand is less than the value of the right operand, then condition becomes true      |\n",
    "|      >=      |      If the value of the left operand is greater than or equal to the value of right operand, then condition becomes true      |\n",
    "|       <=     |      If the value of left operand is less than or equal to the value of right operand, then condition becomes true     |"
   ]
  },
  {
   "cell_type": "markdown",
   "metadata": {},
   "source": [
    "### Assignment Operator\n",
    "Assignment operator as well as shorthand assignment operator is given below:\n",
    "\n",
    "| Operator | Description |\n",
    "|:----------:|:----------:|\n",
    "|     =       |      Assigns value to right side operands to left side operand      |\n",
    "|     +=       |     It adds left operand to right operand and assigns the result to left operand       |\n",
    "|     -=       |     It substract left operand to right operand and assigns the result to left operand        |\n",
    "|     *=       |       It multiplies left operand to right operand and assigns the result to left operand     |\n",
    "|     /=       |      It divides left operand to right operand and assigns the result to left operand      |\n",
    "|     %=       |      It takes modulus using two operands and assigns the result to left operand      |\n",
    "|    \\**=        |       Performs exponential/power calculation on operators and assign value to the left operand     |\n",
    "|     //=       |      It performs the floor division on operators and assign value to the left operand      |\n"
   ]
  },
  {
   "cell_type": "markdown",
   "metadata": {},
   "source": [
    "### Bitwise Operator\n",
    "| Operator | Operation | Description |\n",
    "|:----------:|:----------:|:----------:|\n",
    "|      &      |     Binay AND       |     Operator copies a bit to the result if exists in both operands       |\n",
    "|      \\|      |       Binay OR     |     It copies a bit if it exist in either operand       |\n",
    "|     ^       |      Binary XOR      |     It copies the bit if it is set in one operand but not both        |\n",
    "|      ~      |        Binary NOT/Ones Complement    |    It is unary and has the effect   of 'flipping' bits      |\n",
    "|      <<     |       Binary left shift     |     The left operand value is moved left by the number of bits specified by right operand       |\n",
    "|      >>      |     Binary Right Shift       |    The left operand value is moved right by the number of bits specified by right operand        |\n"
   ]
  },
  {
   "cell_type": "markdown",
   "metadata": {},
   "source": [
    "### Logical Operators\n",
    "| Operator | Operation | Description |\n",
    "|:----------:|:----------:|:----------:|\n",
    "|     and       |     Logical AND       |      If both the operands are true then condition becomes true      |\n",
    "|      or      |     Logical OR       |       If any of the operands are  true then condition becomes true    |\n",
    "|     not       |      Logical NOT      |   Used to reverse logical state of its operand        |\n"
   ]
  },
  {
   "cell_type": "markdown",
   "metadata": {},
   "source": [
    "### Membership Operator\n",
    "Python membership operators are used for test membership in a sequence, such as strings lists or tuples.\n",
    "\n",
    "| Operator | Description |\n",
    "|:----------:|:----------:|\n",
    "|     in       |      Evaluates to true if the variables on either side of the operator point to the same object and false otherwise      |\n",
    "|     not in       |    Evaluates to true if it does not finds a variable in the specified sequence and false otherwise        |\n"
   ]
  },
  {
   "cell_type": "markdown",
   "metadata": {},
   "source": [
    "### Identity Operators\n",
    "Identity operators compare the memory locations of two objects.\n",
    "\n",
    "| Operator | Description |\n",
    "|:----------:|:----------:|\n",
    "|      is      |     Evaluates to true if the variables on either side of the operator point to the same object and false otherwise       |\n",
    "|     is not     |      Evaluates to false if the variables on either side of the operator point to same object and true otherwise      |"
   ]
  }
 ],
 "metadata": {
  "kernelspec": {
   "display_name": "Python 3",
   "language": "python",
   "name": "python3"
  },
  "language_info": {
   "codemirror_mode": {
    "name": "ipython",
    "version": 3
   },
   "file_extension": ".py",
   "mimetype": "text/x-python",
   "name": "python",
   "nbconvert_exporter": "python",
   "pygments_lexer": "ipython3",
   "version": "3.7.2"
  }
 },
 "nbformat": 4,
 "nbformat_minor": 2
}

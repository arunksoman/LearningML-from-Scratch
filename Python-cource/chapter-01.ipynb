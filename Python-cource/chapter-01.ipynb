{
 "cells": [
  {
   "cell_type": "markdown",
   "metadata": {},
   "source": [
    "## Introduction\n",
    "* Python is a high-level (human-readable) programming language that is processed by the Python “interpreter” to produce results.\n",
    "* Python includes a comprehensive standard library of tested code modules that can be easily incorporated into your own programs.\n",
    "* The Python language was developed by _Guido van Rossum_ in the late eighties and early nineties at the **National Research Institute for Mathematics and Computer Science in the Netherlands**.\n",
    "* Python is derived from many other languages, including C, C++, the Unix shell and other programming languages.\n",
    "* Today, Python is maintained by a core development team at the Institute, although Guido van Rossum still holds a vital role in directing its progress.\n",
    "* Python is named after the British television comedy series “Monty Python’s Flying Circus” – you may encounter references to this in the Python documentation.\n",
    "* Currently, the final 2.7 version is out, with a statement of extended support for this end-of-life release. The 2.x branch will see no new major releases after that.\n",
    "* The 3.x branch is under active development and has already seen several stable releases."
   ]
  },
  {
   "cell_type": "markdown",
   "metadata": {},
   "source": [
    "## Zen of Python"
   ]
  },
  {
   "cell_type": "code",
   "execution_count": 1,
   "metadata": {},
   "outputs": [
    {
     "name": "stdout",
     "output_type": "stream",
     "text": [
      "The Zen of Python, by Tim Peters\n",
      "\n",
      "Beautiful is better than ugly.\n",
      "Explicit is better than implicit.\n",
      "Simple is better than complex.\n",
      "Complex is better than complicated.\n",
      "Flat is better than nested.\n",
      "Sparse is better than dense.\n",
      "Readability counts.\n",
      "Special cases aren't special enough to break the rules.\n",
      "Although practicality beats purity.\n",
      "Errors should never pass silently.\n",
      "Unless explicitly silenced.\n",
      "In the face of ambiguity, refuse the temptation to guess.\n",
      "There should be one-- and preferably only one --obvious way to do it.\n",
      "Although that way may not be obvious at first unless you're Dutch.\n",
      "Now is better than never.\n",
      "Although never is often better than *right* now.\n",
      "If the implementation is hard to explain, it's a bad idea.\n",
      "If the implementation is easy to explain, it may be a good idea.\n",
      "Namespaces are one honking great idea -- let's do more of those!\n"
     ]
    },
    {
     "data": {
      "text/plain": [
       "'Tim Peters is a Pythonista(veteran python programmer or\\ndeveloper) who wrote a poem zen of Python as shown below. The poem\\nsays about beautiful elegant features of Python.'"
      ]
     },
     "execution_count": 1,
     "metadata": {},
     "output_type": "execute_result"
    }
   ],
   "source": [
    "import this \n",
    "#this is an easter egg included in python\n",
    "\"\"\"Tim Peters is a Pythonista(veteran python programmer or\n",
    "developer) who wrote a poem zen of Python as shown below. The poem\n",
    "says about beautiful elegant features of Python.\"\"\""
   ]
  },
  {
   "cell_type": "markdown",
   "metadata": {},
   "source": [
    "## Features of Python\n",
    "\n",
    "* **Python is free** – is open source distributable software.\n",
    "* **Python is easy to learn** – has a simple language syntax.\n",
    "* **Python is easy to read** – is uncluttered by punctuation.\n",
    "* **Python is easy to maintain** – is modular for simplicity.\n",
    "* **Python is “batteries included”** – provides a large standard library for easy integration into your own programs.\n",
    "* **Python is interactive** – has a terminal for debugging and testing snippets of code.\n",
    "* **Python is portable** – runs on a wide variety of hardware platforms and has the same interface on all platforms.\n",
    "* **Python is interpreted** – there is no compilation required.\n",
    "* **Python is high-level** – has automatic memory management.\n",
    "* **Python is extensible** – allows the addition of low-level modules to the interpreter for customization.\n",
    "* **Python is versatile** – supports both procedure-orientated programming and object-orientated programming (OOP).\n",
    "* **Python is flexible** – can create console programs, windowed GUI (Graphical User Interface) applications, and CGI (Common Gateway Interface) scripts to process web data."
   ]
  }
 ],
 "metadata": {
  "kernelspec": {
   "display_name": "Python 3",
   "language": "python",
   "name": "python3"
  },
  "language_info": {
   "codemirror_mode": {
    "name": "ipython",
    "version": 3
   },
   "file_extension": ".py",
   "mimetype": "text/x-python",
   "name": "python",
   "nbconvert_exporter": "python",
   "pygments_lexer": "ipython3",
   "version": "3.7.2"
  }
 },
 "nbformat": 4,
 "nbformat_minor": 2
}

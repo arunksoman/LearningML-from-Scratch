{
 "cells": [
  {
   "cell_type": "markdown",
   "metadata": {},
   "source": [
    "# Data Types and Operands\n",
    "Python has following standard datatypes.\n",
    "1. Numbers\n",
    "2. String\n",
    "3. List\n",
    "4. Tuple\n",
    "5. Set\n",
    "6. Dictionary\n",
    "\n",
    "## Numbers\n",
    "\n",
    "* Number data type stores numeric values\n",
    "* Number objects are created when you assign a value to them.\n",
    "* You can also delete the reference to a number using del statement."
   ]
  },
  {
   "cell_type": "code",
   "execution_count": 1,
   "metadata": {},
   "outputs": [
    {
     "name": "stdout",
     "output_type": "stream",
     "text": [
      "a = 4, b = 5 and c =6\n"
     ]
    }
   ],
   "source": [
    "a = 4\n",
    "b = 5\n",
    "c = 6\n",
    "print(\"a = %d, b = %d and c =%d\"%(a,b,c))"
   ]
  },
  {
   "cell_type": "code",
   "execution_count": 16,
   "metadata": {},
   "outputs": [
    {
     "ename": "NameError",
     "evalue": "name 'a' is not defined",
     "output_type": "error",
     "traceback": [
      "\u001b[0;31m------------------------------------------------------------\u001b[0m",
      "\u001b[0;31mNameError\u001b[0m                  Traceback (most recent call last)",
      "\u001b[0;32m<ipython-input-16-a01140a3ead3>\u001b[0m in \u001b[0;36m<module>\u001b[0;34m\u001b[0m\n\u001b[0;32m----> 1\u001b[0;31m \u001b[0;32mdel\u001b[0m \u001b[0ma\u001b[0m\u001b[0;34m,\u001b[0m \u001b[0mb\u001b[0m\u001b[0;34m,\u001b[0m \u001b[0mc\u001b[0m\u001b[0;34m;\u001b[0m\u001b[0;34m\u001b[0m\u001b[0;34m\u001b[0m\u001b[0m\n\u001b[0m\u001b[1;32m      2\u001b[0m \u001b[0mprint\u001b[0m\u001b[0;34m(\u001b[0m\u001b[0;34m\"a = %d, b = %d and c =%d\"\u001b[0m\u001b[0;34m%\u001b[0m\u001b[0;34m(\u001b[0m\u001b[0ma\u001b[0m\u001b[0;34m,\u001b[0m\u001b[0mb\u001b[0m\u001b[0;34m,\u001b[0m\u001b[0mc\u001b[0m\u001b[0;34m)\u001b[0m\u001b[0;34m)\u001b[0m\u001b[0;34m\u001b[0m\u001b[0;34m\u001b[0m\u001b[0m\n",
      "\u001b[0;31mNameError\u001b[0m: name 'a' is not defined"
     ]
    }
   ],
   "source": [
    "del a, b, c;\n",
    "print(\"a = %d, b = %d and c =%d\"%(a,b,c))"
   ]
  },
  {
   "cell_type": "markdown",
   "metadata": {},
   "source": [
    "* The error shown above is due to deleting the reference of variable a,b, and c.\n",
    "* Python supports four numerical types\n",
    "1. int (Signed integers)\n",
    "2. long (Floating point real values)\n",
    "3. Float (Floating point real values)\n",
    "4. Complex (Complex numbers)"
   ]
  },
  {
   "cell_type": "code",
   "execution_count": 8,
   "metadata": {},
   "outputs": [
    {
     "name": "stdout",
     "output_type": "stream",
     "text": [
      "255\n",
      "0xff\n"
     ]
    }
   ],
   "source": [
    "a = 0x01 \n",
    "#prefix 0x indicates the given number is hexadecimal number\n",
    "b = 0xFE\n",
    "print(a+b)\n",
    "print(hex(a+b))"
   ]
  },
  {
   "cell_type": "code",
   "execution_count": 9,
   "metadata": {},
   "outputs": [
    {
     "name": "stdout",
     "output_type": "stream",
     "text": [
      "15\n",
      "0b1111\n"
     ]
    }
   ],
   "source": [
    "a = 0b0101\n",
    "#prefix 0b indicates its a binary number\n",
    "b = 0b1010\n",
    "print(a+b)\n",
    "print(bin(a+b))"
   ]
  },
  {
   "cell_type": "code",
   "execution_count": 12,
   "metadata": {},
   "outputs": [
    {
     "name": "stdout",
     "output_type": "stream",
     "text": [
      "36\n",
      "0o44\n"
     ]
    }
   ],
   "source": [
    "a = 0o12\n",
    "#prefix 0o indicates that it is octal number\n",
    "b = 0o32\n",
    "print(a+b)\n",
    "print(oct(a+b))"
   ]
  },
  {
   "cell_type": "code",
   "execution_count": 14,
   "metadata": {},
   "outputs": [
    {
     "name": "stdout",
     "output_type": "stream",
     "text": [
      "(2+9j)\n"
     ]
    },
    {
     "data": {
      "text/plain": [
       "complex"
      ]
     },
     "execution_count": 14,
     "metadata": {},
     "output_type": "execute_result"
    }
   ],
   "source": [
    "d = 2+9j\n",
    "print(d)\n",
    "type(d)"
   ]
  },
  {
   "cell_type": "markdown",
   "metadata": {},
   "source": [
    "## Mathematical Functions\n",
    "* Python provides various built-in Mathematical functions to perform mathematical calculations. In order to use these functions **we have to import math module**.\n",
    "\n",
    "### Mathematical Functions\n",
    "\n",
    "| Function | Description |\n",
    "|:----------:|:----------:|\n",
    "|    abs(x)        |     Returns the absolute value of x       |\n",
    "|     sqrt(x)       |      Finds the square root of x      |\n",
    "|    ciel(x)        |     Finds the smallest integer not less than x      . i.e., $\\lceil x \\rceil$ |\n",
    "|      floor(x)      |    Finds the largest integer not greater than x        |\n",
    "|     pow(x,y)       |      Finds $x^y$      |\n",
    "|       exp(x)     |     returns $e^x$ ie., exponential of x       |\n",
    "|      fabs(x)      |      returns the absolute value of x      |\n",
    "|      log(x)      |     Finds the natural logarithm of x for x>0       |\n",
    "|      log10(x)      |     Finds the logarithm to the base 10 for x>0       |\n",
    "|     max(x1,x2....,xn)       |      Returns largest of its arguments      |\n",
    "|      min(x1,x2,....xn)      |    Returns smallest of its arguments        |\n",
    "|     round(x[n])       |     In case decimal numbers, x will be rounded to n digits       |\n",
    "|      modf(x)      |    Return the integer and decimal parts of a tuple. The integer part is returned as a decimal        |\n"
   ]
  },
  {
   "cell_type": "code",
   "execution_count": 8,
   "metadata": {},
   "outputs": [
    {
     "name": "stdout",
     "output_type": "stream",
     "text": [
      "absolute value of -120 is: 120\n",
      "square root of 25 is  5.0\n",
      "Ceil of 12.2  is  13\n",
      "floor of 12.2 is  12\n",
      "2 raised to 3 is  8\n",
      "Exponential of 3  is  20.085536923187668\n",
      "Absolute value of -1 is  1.0\n",
      "log of 10  is  2.302585092994046\n",
      "Largest among 12,3,5 is  12\n",
      "Round PI among 3 decimal places  3.14\n",
      "Ceil of 12.2  is  13\n",
      "decimal part and integer part of 22.56779 (0.5677899999999987, 22.0)\n"
     ]
    }
   ],
   "source": [
    "import math\n",
    "print(\"absolute value of -120 is:\",abs(-120))\n",
    "print(\"square root of 25 is \",math.sqrt(25))\n",
    "print(\"Ceil of 12.2  is \",math.ceil(12.2))\n",
    "print(\"floor of 12.2 is \",math.floor(12.2))\n",
    "print(\"2 raised to 3 is \",pow(2,3))\n",
    "print(\"Exponential of 3  is \",math.exp(3))\n",
    "print(\"Absolute value of -1 is \",math.fabs(-1))\n",
    "print(\"log of 10  is \",math.log(10))\n",
    "print(\"Largest among 12,3,5 is \",max(12,3,5))\n",
    "print(\"Round PI among 3 decimal places \",round(math.pi,2))\n",
    "print(\"Ceil of 12.2  is \",math.ceil(12.2))\n",
    "print(\"decimal part and integer part of 22.56779\",math.modf(22.56779))"
   ]
  },
  {
   "cell_type": "markdown",
   "metadata": {},
   "source": [
    "### <span style=\"color:red\">Hey hey from last example we got an idea still Python has bug on decimal point calculations. I observed these kinds of bugs on floating point calculation from Python version 3.4.3 onwards.</span>"
   ]
  },
  {
   "cell_type": "markdown",
   "metadata": {},
   "source": [
    "### Trigonometric Functions\n",
    "\n",
    "| Functions | Descriptiom |\n",
    "|:----------:|:----------:|\n",
    "|    sin(x)        |     Returns the sin(x) in radians       |\n",
    "|    cos(x)        |     Returns the cos(x) in radians       |\n",
    "|    tan(x)     |      Returns tan(x) in radians      |\n",
    "|    asin(x)      |     Returns $sin^{-1} (x)$ in radians       |\n",
    "|    acos(x)        |     Returns the $cos^{-1}(x)$ in radians       |\n",
    "|    atan(x)      |    Returns the $tan^{-1}(x)$ in radians        |\n",
    "|    atan2(y,x)        |     Returns the $tan^{-1}\\left(\\frac{y}{x}\\right)$ in radians       |\n",
    "|    hypot(x,y)      |     Returns Eucleadian form $\\sqrt{x^{x}+y^{y}}$       |\n",
    "|    degrees(x)      |    Converts angle x from radians to degrees        |\n",
    "|   radians (x) | Converts angle x from degrees to radians  |\n"
   ]
  },
  {
   "cell_type": "code",
   "execution_count": 15,
   "metadata": {},
   "outputs": [
    {
     "name": "stdout",
     "output_type": "stream",
     "text": [
      "51.222235723088794\n"
     ]
    }
   ],
   "source": [
    "## Example\n",
    "import math\n",
    "print(math.degrees(math.sin(90)))"
   ]
  },
  {
   "cell_type": "markdown",
   "metadata": {},
   "source": [
    "### Random Number Functions\n",
    "* Random number has several applications in research, cryptography, game development, simulation etc.\n",
    "* We have to **import random** module to use following functions\n",
    "\n",
    "| Function | Description |\n",
    "|:----------:|:----------:|\n",
    "|   choice(sequence)         |      Returns a random value from a sequence like list      |\n",
    "|     shuffle(list)       |      shuffles items randomly in a list returns none      |\n",
    "|      random()      |    Returns a random floating point number which lies between 0 and 1        |\n",
    "|    randrange([start],stop,[step])        |    Returns a randomly selected number from a range where  start shows the starting of the range, end shows the end of the range and step decides number to be added to decide a random number        |\n",
    "|     seed([x])       |      Gives a starting value for generating random number. Returns None. This function is called before any other random module function     |\n",
    "|      uniform(x,y)      |     Generates a random floating point number n such that n>x and n<y       |\n"
   ]
  },
  {
   "cell_type": "code",
   "execution_count": 20,
   "metadata": {},
   "outputs": [
    {
     "name": "stdout",
     "output_type": "stream",
     "text": [
      "choice(s):  d\n",
      "seed(20):  None\n",
      "random():  0.8444218515250481\n",
      "uniform(1,10):  7.821589626462722\n",
      "randrange(2,10,1):  8\n"
     ]
    }
   ],
   "source": [
    "import random\n",
    "s='abcde';\n",
    "print(\"choice(s): \",random.choice(s))\n",
    "print(\"seed(20): \",random.seed(0))\n",
    "print(\"random(): \",random.random())\n",
    "print(\"uniform(1,10): \",random.uniform(1,10))\n",
    "print(\"randrange(2,10,1): \",random.randrange(2,10,1))"
   ]
  }
 ],
 "metadata": {
  "kernelspec": {
   "display_name": "Python 3",
   "language": "python",
   "name": "python3"
  },
  "language_info": {
   "codemirror_mode": {
    "name": "ipython",
    "version": 3
   },
   "file_extension": ".py",
   "mimetype": "text/x-python",
   "name": "python",
   "nbconvert_exporter": "python",
   "pygments_lexer": "ipython3",
   "version": "3.7.2"
  }
 },
 "nbformat": 4,
 "nbformat_minor": 2
}

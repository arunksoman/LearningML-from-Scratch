{
 "cells": [
  {
   "cell_type": "markdown",
   "metadata": {},
   "source": [
    "#  Histogram of Oriented Gradients (HOG)\n",
    "\n",
    "* It is a name of the image descriptor\n",
    "* Similar to edge orientation histograms and local invariant descriptors such as SIFT, HOG operates on the gradient magnitude of the image\n",
    "* However, unlike SIFT, which computes a histogram over the orientation of the edges in small, localized areas of the image, HOG computes these histograms on a dense grid of uniformly spaced cells. Furthermore, these cells can also overlap and be contrast normalized to improve the accuracy of the descriptor\n",
    "* HOG has been used successfully in many areas of computer vision and machine learning, but especially noteworthy is the detection of people in images.\n",
    "* We are going to apply the HOG image descriptor and a linear Support Vector Machine (SVM) to learn the representation of image digits.\n",
    "* Luckily the scikit-image library has already implemented the HOG descriptor, so we can rely on it when computing his feature representations.\n",
    "* The program starts by importing the feature sub-package of scikit-image on Line 1. The feature package contains many methods to extract features from images, but perhaps most notable is the hog method which we will utilize in his HOG class defined on Line 3.\n",
    "* sets up __init__ constructor on Line 4, requiring four parameters. The first, orientations defines how many gradient magnitude orientations will be in each histogram(i.e. the number of bins). The pixelsPerCell parameter defines the number of pixels that will fall into each cell. When computing the HOG descriptor over an image, the image will be partitioned into multiple cells, each of size $\\text{pixelsPerCell} \\times \\text{pixelsPerCell}$. A histogram of gradients will then be computed for each cell.\n",
    "* HOG will then normalize each of the histograms according to the number of cells that fall into each block using the ```cellsPerBlock argument```.\n",
    "* Optionally, HOG can apply power law compression (taking the square-root of the input image), which can lead to better accuracy of the descriptor.\n"
   ]
  }
 ],
 "metadata": {
  "kernelspec": {
   "display_name": "Python 3",
   "language": "python",
   "name": "python3"
  },
  "language_info": {
   "codemirror_mode": {
    "name": "ipython",
    "version": 3
   },
   "file_extension": ".py",
   "mimetype": "text/x-python",
   "name": "python",
   "nbconvert_exporter": "python",
   "pygments_lexer": "ipython3",
   "version": "3.6.7"
  }
 },
 "nbformat": 4,
 "nbformat_minor": 2
}

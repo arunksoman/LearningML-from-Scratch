{
 "cells": [
  {
   "cell_type": "markdown",
   "metadata": {},
   "source": [
    "# Image Processing\n",
    "### Image Rotation\n",
    "\n",
    "* Rotation is exactly what it sounds like: rotating an image by some angle $\\theta$. \n",
    "* we want to rotate about. In most cases, you will want to rotate around the center of an image; however, OpenCV allows you to specify any arbitrary point you want to rotate around.\n",
    "* Line 7 and 8 grabs the height and width of the image\n",
    "* Just as we defined a matrix to translate an image, we also define a matrix to rotate the image. Instead of manually constructing the matrix using NumPy, we’ll just make a call to the cv2.getRotationMatrix2D.\n",
    "* The ```cv2.getRotationMatrix2D``` function takes three arguments: the point in which we want to rotate the image about (in this case, the center of the image)\n",
    "* We then specify $\\theta$, the number of degrees we are going to rotate the image by. "
   ]
  },
  {
   "cell_type": "code",
   "execution_count": 1,
   "metadata": {},
   "outputs": [],
   "source": [
    "import numpy as np\n",
    "# import argparse\n",
    "import imutils\n",
    "import cv2\n",
    "image = cv2.imread('images/cycle.jpg')\n",
    "cv2.imshow(\"Original\", image)\n",
    "(h, w) = image.shape[:2]\n",
    "center = (w / 2, h / 2)\n",
    "M = cv2.getRotationMatrix2D(center, 45, 1.0)\n",
    "rotated = cv2.warpAffine(image, M, (w, h))\n",
    "cv2.imshow(\"Rotated by 45 Degrees\", rotated)\n",
    "M = cv2.getRotationMatrix2D(center, -90, 1.0)\n",
    "rotated = cv2.warpAffine(image, M, (w, h))\n",
    "cv2.imshow(\"Rotated by -90 Degrees\", rotated)\n",
    "if(cv2.waitKey(0)):\n",
    " cv2.destroyAllWindows()"
   ]
  },
  {
   "cell_type": "markdown",
   "metadata": {},
   "source": [
    "### Rotation of Image Using Function"
   ]
  },
  {
   "cell_type": "code",
   "execution_count": 1,
   "metadata": {},
   "outputs": [],
   "source": [
    "import numpy as np\n",
    "# import argparse\n",
    "import imutils\n",
    "import cv2\n",
    "def rotate(image, angle, center = None, scale = 1.0):\n",
    "    (h, w) = image.shape[:2]\n",
    "    if center is None:\n",
    "        center = (w / 2, h / 2)\n",
    "    M = cv2.getRotationMatrix2D(center, angle, scale)\n",
    "    rotated = cv2.warpAffine(image, M, (w, h))\n",
    "    \n",
    "    return rotated\n",
    "image = cv2.imread('images/cycle.jpg')\n",
    "cv2.imshow(\"Original\", image)\n",
    "rotated = rotate(image, 45)\n",
    "cv2.imshow(\"Rotated By 45 degrees\", rotated)\n",
    "if(cv2.waitKey(0)):\n",
    " cv2.destroyAllWindows()"
   ]
  },
  {
   "cell_type": "markdown",
   "metadata": {},
   "source": [
    "### Rotate image using imutils"
   ]
  },
  {
   "cell_type": "code",
   "execution_count": 1,
   "metadata": {},
   "outputs": [],
   "source": [
    "import numpy as np\n",
    "# import argparse\n",
    "import imutils\n",
    "import cv2\n",
    "\n",
    "image = cv2.imread('images/cycle.jpg')\n",
    "rotated = imutils.rotate(image, 180)\n",
    "cv2.imshow(\"Rotated by 180 Degrees\", rotated)\n",
    "if(cv2.waitKey(0)):\n",
    " cv2.destroyAllWindows()"
   ]
  },
  {
   "cell_type": "markdown",
   "metadata": {},
   "source": [
    "### Image Transformation\n",
    "\n",
    "* Translation is the shifting of an image along the x and y axis. Using translation, we can shift an image up, down, left, or right, along with any combination of the above!\n",
    "* In this program actual transformation takes place at line 10-12\n",
    "* We first define our translation matrix M.\n",
    "* This matrix tells us how many pixels to the left or right our image will shifted, and then how many pixels up or down the image will be shifted.\n",
    "* Our translation matrix M is defined as a floating point array – this is important because OpenCV expects this matrix to be of floating point type.\n",
    "* The first row of the matrix is $[1, 0, t_{x}]$, where $t_{x}$ is the number of pixels we will shift the image left or right. Negative values of tx will shift the image to the left and positive values will shift the image to the right.\n",
    "* Then, we define the second row of the matrix as $[0, 1, t_{y}]$, where $t_{y}$ is the number of pixels we will shift the image up or down. Negative valuee of ty will shift the image up and positive values will shift the image down.\n",
    "* Using this notation, we can see on Line 14 that $t_{x}$ = 25 and $t_{y}$ = 50, implying that we are shifting the image 25 pixels to the right and 50 pixels down.\n",
    "* Now that we have our translation matrix defined, the actual translation takes place on Line 10 using the ```cv2.warpAffine``` function. The first argument is the image we wish to shift and the second argument is our translation matrix $M$. Finally, we manually supply the dimensions (width and height) of our image as the third argument. Line 11 shows the results of the translation"
   ]
  },
  {
   "cell_type": "code",
   "execution_count": 3,
   "metadata": {},
   "outputs": [],
   "source": [
    "import numpy as np\n",
    "import cv2\n",
    "\n",
    "image = cv2.imread('images/cycle.jpg')\n",
    "cv2.imshow(\"Original\", image)\n",
    "\n",
    "M = np.float32([[1, 0, 25], [0, 1, 50]])\n",
    "shifted = cv2.warpAffine(image, M, (image.shape[1], image.shape[0]))\n",
    "cv2.imshow(\"Shifted Down and Right\", shifted)\n",
    "M = np.float32([[1, 0, -50], [0, 1, -90]])\n",
    "shifted = cv2.warpAffine(image, M, (image.shape[1], image.shape[0]))\n",
    "cv2.imshow(\"Shifted Up and Left\", shifted)\n",
    "if(cv2.waitKey(0)):\n",
    " cv2.destroyAllWindows()"
   ]
  },
  {
   "cell_type": "markdown",
   "metadata": {},
   "source": [
    "### Image Transformation using function"
   ]
  },
  {
   "cell_type": "code",
   "execution_count": 4,
   "metadata": {},
   "outputs": [],
   "source": [
    "import numpy as np\n",
    "import cv2\n",
    "\n",
    "image = cv2.imread('images/cycle.jpg')\n",
    "cv2.imshow(\"Original\", image)\n",
    "def translate(image, x, y):\n",
    "    M = np.float32([[1, 0, x], [0, 1, y]])\n",
    "    shifted = cv2.warpAffine(image, M, (image.shape[1], image.shape[0]))\n",
    "    return shifted\n",
    "\"\"\"\n",
    "Our translate method takes three parameters: the image\n",
    "we are going to translate, the number pixels that we are going to shift along the x-axis, \n",
    "and the number of pixels we are going to shift along the y-axis.\n",
    "\"\"\"\n",
    "shifted = translate(image, 0, 100)\n",
    "cv2.imshow(\"Shifted Down\", shifted)\n",
    "if(cv2.waitKey(0)):\n",
    " cv2.destroyAllWindows()"
   ]
  },
  {
   "cell_type": "markdown",
   "metadata": {},
   "source": [
    "### Resizing"
   ]
  },
  {
   "cell_type": "code",
   "execution_count": 1,
   "metadata": {},
   "outputs": [],
   "source": [
    "import numpy as np\n",
    "import cv2\n",
    "\n",
    "image = cv2.imread('images/cycle.jpg')\n",
    "cv2.imshow(\"Original\", image)\n",
    "r = 150.0 / image.shape[1]\n",
    "dim = (150, int(image.shape[0] * r))\n",
    "resized = cv2.resize(image, dim, interpolation = cv2.INTER_AREA)\n",
    "cv2.imshow(\"Resized (Width)\", resized)\n",
    "if(cv2.waitKey(0)):\n",
    " cv2.destroyAllWindows()"
   ]
  },
  {
   "cell_type": "markdown",
   "metadata": {},
   "source": [
    "* When resizing an image, we need to keep in mind the aspect ratio of the image. The aspect ratio is the proportional relationship of the width and the height of the image. If we don’t be mindful of the aspect ratio, our resizing will return results that don’t look correct.\n",
    "* In this line of code we define our new image width to be 150 pixels. In order to compute the ratio of the new height to the old height, we simply define our ratio r to be the new width (150 pixels) divided by the old width, which we access using ```image.shape```. This aspect ratio is handled on line 6 of the code\n",
    "* Now that we have our ratio, we can compute the new dimensions of the image on Line 7. Again, the width of the new image will be 150 pixels. The height is then computed by multiplying the old height by our ratio and converting it to an integer.\n",
    "* The actual resizing of the image takes place on Line 8. The first argument is the image we wish to resize and the second is our computed dimensions for the new image. Last parameter is our interpolation method, which is the algorithm working behind the scenes to handle how the actual image is resized. In general, using ```cv2. INTER_AREA``` obtains the best results when resizing; however, other appropriate choices include ```cv2.INTER_LINEAR```, ```cv2.INTER_CUBIC```, and ```cv2.INTER_NEAREST```."
   ]
  },
  {
   "cell_type": "markdown",
   "metadata": {},
   "source": [
    "### Image Flipping"
   ]
  },
  {
   "cell_type": "code",
   "execution_count": 3,
   "metadata": {},
   "outputs": [],
   "source": [
    "import numpy as np\n",
    "import cv2\n",
    "\n",
    "image = cv2.imread('images/cycle.jpg')\n",
    "cv2.imshow(\"Original\", image)\n",
    "\n",
    "flipped = cv2.flip(image, 1)\n",
    "cv2.imshow(\"Flipped Horizontally\", flipped)\n",
    "\n",
    "flipped = cv2.flip(image, 0)\n",
    "cv2.imshow(\"Flipped Vertically\", flipped)\n",
    "\n",
    "flipped = cv2.flip(image, -1)\n",
    "cv2.imshow(\"Flipped Horizontally & Vertically\", flipped)\n",
    "\n",
    "if(cv2.waitKey(0)):\n",
    " cv2.destroyAllWindows()"
   ]
  },
  {
   "cell_type": "markdown",
   "metadata": {},
   "source": [
    "### Cropping Image"
   ]
  },
  {
   "cell_type": "code",
   "execution_count": 5,
   "metadata": {},
   "outputs": [],
   "source": [
    "import numpy as np\n",
    "import cv2\n",
    "\n",
    "image = cv2.imread('images/cycle.jpg')\n",
    "cv2.imshow(\"Original\", image)\n",
    "cropped = image[30:120 , 200:280]\n",
    "cv2.imshow(\"Cropped Image\", cropped)\n",
    "if(cv2.waitKey(0)):\n",
    " cv2.destroyAllWindows()"
   ]
  },
  {
   "cell_type": "markdown",
   "metadata": {},
   "source": [
    "1. Start y: The starting y coordinate. In this case, we start at y = 30\n",
    "2. End y: The ending y coordinate. We will end our crop at y = 120.\n",
    "3. Start x: The starting x coordinate of the slice. We start the crop at x = 200.\n",
    "4. End y: The ending x-axis coordinate of the slice. Our slice ends at x = 280."
   ]
  }
 ],
 "metadata": {
  "kernelspec": {
   "display_name": "Python 3",
   "language": "python",
   "name": "python3"
  },
  "language_info": {
   "codemirror_mode": {
    "name": "ipython",
    "version": 3
   },
   "file_extension": ".py",
   "mimetype": "text/x-python",
   "name": "python",
   "nbconvert_exporter": "python",
   "pygments_lexer": "ipython3",
   "version": "3.6.7"
  }
 },
 "nbformat": 4,
 "nbformat_minor": 2
}

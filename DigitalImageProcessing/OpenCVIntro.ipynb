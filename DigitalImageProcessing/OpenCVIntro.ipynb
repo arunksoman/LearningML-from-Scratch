{
 "cells": [
  {
   "cell_type": "markdown",
   "metadata": {},
   "source": [
    "# Image Processing\n",
    "* The goal of computer vision is to understand the story unfolding in a picture. As humans, this is quite simple. But for computers, the task is extremely difficult.\n",
    "* What other types of useful applications of computer vision are there? There is sevral examples:\n",
    "    1. Well, we could build representations of our 3D world using public image repositories like Flickr. We could download thousands and thousands of pictures of Manhattan, taken by citizens with their smartphones and cameras, and then analyze them and organize them to construct a 3D representation of the city. We would then virtually navigate this city through our computers. Sound cool?\n",
    "    2. Another popular application of computer vision is surveillance.\n",
    "    3. While surveillance tends to have a negative connotation of sorts, there are many different types of surveillance. One type of surveillance is related to analyzing security videos, looking for possible suspects after a robbery.\n",
    "    4. But a different type of surveillance can be seen in the retail world. Department stores can use calibrated cameras totrack how you walk through their stores and which kiosks you stop at.\n",
    "    5. On your last visit to your favorite clothing retailer, did you stop to examine the spring’s latest jean trends? How long did you look at the jeans? What was your facial expression as you looked at the jeans? Did you then pickup a pair and head to the dressing room? These are all types of questions that computer vision surveillance systems can answer.\n",
    "    6. Perhaps the biggest success computer vision success story you may have heard of is the X-Box 360 Kinect. The Kinect can use a stereo camera to understand the depth of an image, allowing it to classify and recognize human poses, with the help of some machine learning, of course."
   ]
  },
  {
   "cell_type": "markdown",
   "metadata": {},
   "source": [
    "## Loading Image"
   ]
  },
  {
   "cell_type": "code",
   "execution_count": null,
   "metadata": {},
   "outputs": [],
   "source": [
    "import cv2\n",
    "image = cv2.imread('images/cycle.jpg')\n",
    "print (\"width: %d pixels\" % (image.shape[1]))\n",
    "print (\"height: %d pixels\" % (image.shape[0]))\n",
    "print (\"channels: %d\" % (image.shape[2]))\n",
    "cv2.imshow(\"Image\", image)\n",
    "if(cv2.waitKey(0)):\n",
    " cv2.destroyAllWindows()       "
   ]
  },
  {
   "cell_type": "markdown",
   "metadata": {},
   "source": [
    "## Saving an Image"
   ]
  },
  {
   "cell_type": "code",
   "execution_count": null,
   "metadata": {},
   "outputs": [],
   "source": [
    "cv2.imwrite(\"newimage.jpg\", image)"
   ]
  },
  {
   "cell_type": "markdown",
   "metadata": {},
   "source": [
    "### Results\n",
    "* Examining the the output of the script, you should also see some basic information on our image. You’ll note that the image width, height, and 3 channels (the RGB components of the image). Represented as a **NumPy array**,So here, image has a shape of (401,340,3)\n",
    "* **When we write matrices, it is common to write them in the form (# of rows × # of columns) – this is not the case for NumPy. NumPy actually gives you the number of columns, then the number of rows. This is important to keep in mind.**\n"
   ]
  },
  {
   "cell_type": "markdown",
   "metadata": {},
   "source": [
    "# Image Basics\n",
    "### What is Pixel?\n",
    "* Every image consists of a set of pixels. Pixels are the raw, building blocks of an image. There is no finer granularity than the pixel.\n",
    "* Normally, we think of a pixel as the “color” or the “intensity” of light that appears in a given place in our image.\n",
    "* If we think of an image as a grid, each square in the grid contains a single pixel.\n",
    "* Most pixels are represented in two ways: grayscale and color. In a grayscale image, each pixel has a value between 0 and 255, where zero is corresponds to “black” and 255 being “white”.\n",
    "    * The values in between 0 and 255 are varying shades of gray, where values closer to 0 are darker and values closer 255 are lighter.\n",
    "* Color pixels are normally represented in the RGB color space – one value for the Red component, one for Green, and one for Blue.\n",
    "    * Other color spaces exist, but let’s start with the basics and move our way up from there.\n",
    "* Each of the three colors are represented by an integer in the range 0 to 255, which indicates how “much” of the color there is.\n",
    "    * Given that the pixel value only needs to be in the range [0, 255] we normally use an 8-bit unsigned integer to represent each color intensity.\n",
    "* We then combine these values into a RGB tuple in the form (red, green, blue). This tuple represents our color.\n",
    "* To construct a white color, we would fill each of the red, green, and blue buckets completely up, like this: (255,255,255).\n",
    "* Then, to create a black color, we would empty each of the buckets out: (0,0,0)\n",
    "* To create a pure red color, we would fill up the red bucket (and only the red bucket) up completely: (255,0,0)\n",
    "* For your reference, here are some common colors represented as RGB tuples:\n",
    "\n",
    "|  Color   |  Corresponding RGB Tuple  |\n",
    "|:---------|:-------------------------:|\n",
    "|  Black   |           (0,0,0)         |\n",
    "|  White   |        (255,255,255)      |\n",
    "|  Red     |          (255,0,0)        |\n",
    "|  Green   |          (0,255,0)        |\n",
    "|  Blue    |          (0,0,255)        |\n",
    "|  Aqua    |         (0,255,255)       |\n",
    "| Fuchsia  |         (255,0,255)       |\n",
    "|  Maroon  |          (128,0,0)        |\n",
    "|  Navy    |          (0,0,128)        |\n",
    "|  Olive   |         (128,128,0)       |\n",
    "|  Purple  |         (128,0,128)       |\n",
    "|  Teal    |         (0,128,128)       |\n",
    "|  Yellow  |         (255,255,0)       |"
   ]
  },
  {
   "cell_type": "markdown",
   "metadata": {},
   "source": [
    "## Accessing and Manipulating Pixels\n",
    "* Every time we have to consider our image is placed on plane graph sheet so that we can access every pixel by calling its position.\n",
    "* Remember, OpenCV represents images as NumPy arrays.Conceptually, we can think of this representation as a matrix.\n",
    "* In order to access a pixel value, we just need to supply the x and y coordinatesof the pixel we are interested in.\n",
    "* From there, we are given a tuple representing the Red, Green, and Blue components of the image.\n",
    "* <span style=\"color:red\"> **However, it’s important to note that OpenCV stores RGB channels in reverse order. While we normally think in terms of Red, Green, and Blue, OpenCV actually stores them in the order of Blue, Green, and Red. This is important to note since it could cause some confusion later.** </span>"
   ]
  },
  {
   "cell_type": "code",
   "execution_count": null,
   "metadata": {},
   "outputs": [],
   "source": [
    "import cv2\n",
    "image = cv2.imread('images/cycle.jpg')\n",
    "cv2.imshow(\"Original\", image)\n",
    "(b, g, r) = image[0, 0]\n",
    "print(\"Pixel at (0, 0) - Red: %d, Green: %d, Blue: %d\" % (r, g, b))\n",
    "image[0, 0] = (0, 0, 255) #purposefully changing Pixel at [0,0]\n",
    "(b, g, r) = image[0, 0]\n",
    "print(\"Pixel at (0, 0) - Red: %d, Green: %d, Blue: %d\" % (r, g, b))\n",
    "corner = image[0:100, 0:100]\n",
    "cv2.imshow(\"Corner\", corner)\n",
    "image[0:100, 0:100] = (0, 255, 0)\n",
    "cv2.imshow(\"Updated\", image)\n",
    "cv2.waitKey(0)"
   ]
  },
  {
   "cell_type": "markdown",
   "metadata": {},
   "source": [
    "* In above program on line 9, we grab a 100 × 100 pixel region of the image.In fact, this is the top-left corner of the image! In order to grab chunks of an image, NumPy expects we provide four indexes:\n",
    "    1. **Start y:** The first value is the starting y coordinate. This is where our array slice will start along the y-axis. In our example above, our slice starts at y = 0.\n",
    "    2. **End y:** Just as we supplied a starting y value, we must provide an ending y value. Our slice stops along the y-axis when y = 100.\n",
    "    3. **Start x:** The third value we must supply is the starting x coordinate for the slice. In order to grab the top-left region of the image, we start at x = 0.\n",
    "    4. **End x:** Lastly, we need to provide a x-axis value for our slice to stop. We stop when x = 100."
   ]
  },
  {
   "cell_type": "markdown",
   "metadata": {},
   "source": [
    "# Drawing"
   ]
  },
  {
   "cell_type": "code",
   "execution_count": null,
   "metadata": {},
   "outputs": [],
   "source": [
    "import numpy as np\n",
    "import cv2\n",
    "canvas = np.zeros((300, 300, 3), dtype = \"uint8\") # Since Every Pixel is zero it produces a black background\n",
    "green = (0, 255, 0)\n",
    "cv2.line(canvas, (0, 0), (300, 300), green) # Shows a line between (0,0) and (300,300)\n",
    "cv2.imshow(\"Canvas\", canvas)\n",
    "cv2.waitKey(0)\n",
    "red = (0, 0, 255)\n",
    "cv2.line(canvas, (300, 0), (0, 300), red, 3)\n",
    "cv2.imshow(\"Canvas\", canvas)\n",
    "if(cv2.waitKey(0)):\n",
    "    cv2.destroyAllWindows()"
   ]
  },
  {
   "cell_type": "code",
   "execution_count": 1,
   "metadata": {},
   "outputs": [],
   "source": [
    "import numpy as np\n",
    "import cv2\n",
    "canvas = np.zeros((300, 300, 3), dtype = \"uint8\") # Since Every Pixel is zero it produces a black background\n",
    "green = (0, 255, 0)\n",
    "cv2.line(canvas, (0, 0), (300, 300), green) # Shows a line between (0,0) and (300,300)\n",
    "cv2.imshow(\"Canvas\", canvas)\n",
    "cv2.waitKey(0)\n",
    "red = (0, 0, 255)\n",
    "cv2.line(canvas, (300, 0), (0, 300), red, 3)\n",
    "cv2.imshow(\"Canvas\", canvas)\n",
    "cv2.waitKey(0)\n",
    "cv2.rectangle(canvas, (10, 10), (60, 60), green)\n",
    "cv2.imshow(\"Canvas\", canvas)\n",
    "cv2.waitKey(0)\n",
    "cv2.rectangle(canvas, (50, 200), (200, 225), red, 5)\n",
    "cv2.imshow(\"Canvas\", canvas)\n",
    "cv2.waitKey(0)\n",
    "blue = (255, 0, 0)\n",
    "cv2.rectangle(canvas, (200, 50), (225, 125), blue, -1)\n",
    "cv2.imshow(\"Canvas\", canvas)\n",
    "cv2.waitKey(0)\n",
    "canvas = np.zeros((300, 300, 3), dtype = \"uint8\")\n",
    "(centerX, centerY) = (canvas.shape[1] // 2, canvas.shape[0] // 2)\n",
    "white = (255, 255, 255)\n",
    "for r in range(0, 175, 25):\n",
    "    cv2.circle(canvas, (centerX, centerY), r, white)\n",
    "cv2.imshow(\"Canvas\", canvas)\n",
    "if(cv2.waitKey(0)):\n",
    "    cv2.destroyAllWindows()"
   ]
  },
  {
   "cell_type": "markdown",
   "metadata": {},
   "source": [
    "## Drawing Circles"
   ]
  },
  {
   "cell_type": "code",
   "execution_count": null,
   "metadata": {},
   "outputs": [],
   "source": [
    "import numpy as np\n",
    "import cv2\n",
    "canvas = np.zeros((300, 300, 3), dtype = \"uint8\")\n",
    "(centerX, centerY) = (canvas.shape[1] // 2, canvas.shape[0] // 2)\n",
    "white = (255, 255, 255)\n",
    "for r in range(0, 175, 25):\n",
    "    cv2.circle(canvas, (centerX, centerY), r, white)\n",
    "cv2.imshow(\"Canvas\", canvas)\n",
    "if(cv2.waitKey(0)):\n",
    "    cv2.destroyAllWindows()"
   ]
  },
  {
   "cell_type": "code",
   "execution_count": 1,
   "metadata": {},
   "outputs": [],
   "source": [
    "import numpy as np\n",
    "import cv2\n",
    "canvas = np.zeros((300, 300, 3), dtype = \"uint8\")\n",
    "for i in range(0, 25):\n",
    "    radius = np.random.randint(5, high = 200)\n",
    "    color = np.random.randint(0, high = 256, size = (3,)).tolist()\n",
    "    pt = np.random.randint(0, high = 300, size = (2,))\n",
    "    cv2.circle(canvas, tuple(pt), radius, color, -1)\n",
    "cv2.imshow(\"Canvas\", canvas)\n",
    "if(cv2.waitKey(0)):\n",
    "    cv2.destroyAllWindows()"
   ]
  }
 ],
 "metadata": {
  "kernelspec": {
   "display_name": "Python 3",
   "language": "python",
   "name": "python3"
  },
  "language_info": {
   "codemirror_mode": {
    "name": "ipython",
    "version": 3
   },
   "file_extension": ".py",
   "mimetype": "text/x-python",
   "name": "python",
   "nbconvert_exporter": "python",
   "pygments_lexer": "ipython3",
   "version": "3.6.7"
  }
 },
 "nbformat": 4,
 "nbformat_minor": 2
}

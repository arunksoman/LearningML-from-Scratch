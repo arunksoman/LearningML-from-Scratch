{
 "cells": [
  {
   "cell_type": "markdown",
   "metadata": {},
   "source": [
    "### Why NumPy??\n",
    "Numpy is faster and uses less memory than lists."
   ]
  },
  {
   "cell_type": "code",
   "execution_count": 1,
   "metadata": {},
   "outputs": [
    {
     "name": "stdout",
     "output_type": "stream",
     "text": [
      "Size of NumPy array:  64\n",
      "Size of list:  280\n",
      "Time for Python List in msec:  262.7992630004883\n",
      "Time for NumPy array in msec:  41.45026206970215\n",
      "\n",
      "This means NumPy array is faster than Python List\n",
      "ADD a1 and a2 elements :  [5 7 9]\n",
      "SUB a1 and a2 elements :  [-3 -3 -3]\n",
      "MUL a1 and a2 elements :  [ 4 10 18]\n",
      "Time for NumPy array in msec:  0.23174285888671875\n"
     ]
    }
   ],
   "source": [
    "import numpy as np\n",
    "import time \n",
    "import sys\n",
    "##Numpy Memory usage\n",
    "\n",
    "# Creating a NumPy array with 100 elements\n",
    "array = np.arange(100)\n",
    "# array.itemsize : Size of one element\n",
    "# array.size : length of array\n",
    "print(\"Size of NumPy array: \", array.itemsize * array.itemsize)\n",
    "\n",
    "# Creating a list with 100 elements\n",
    "# Now I'll print the size of list\n",
    "list = range(0, 10)\n",
    "# Multiplying size of 1 element with length of the list\n",
    "print(\"Size of list: \", sys.getsizeof(1)*len(list))\n",
    "\n",
    "#Numpy arrays consuming less time than list\n",
    "\n",
    "Size = 100000\n",
    "\n",
    "# Creating two lists\n",
    "list1 = range(Size)\n",
    "list2 = range(Size)\n",
    "\n",
    "# Creating two NumPy arrays\n",
    "arr1 = np.arange(Size)\n",
    "arr2 = np.arange(Size)\n",
    "\n",
    "# Calculating time for Python list\n",
    "start = time.time()\n",
    "result = [(x,y) for x, y in zip(list1, list2)]\n",
    "          \n",
    "print(\"Time for Python List in msec: \", (time.time() - start) * 1000)\n",
    "\n",
    "# Calculating time for NumPy array\n",
    "start = time.time()\n",
    "result = arr1+arr2\n",
    "print(\"Time for NumPy array in msec: \", (time.time()- start) * 1000)\n",
    "\n",
    "print(\"\\nThis means NumPy array is faster than Python List\")\n",
    "\n",
    "#Numpy arrays are more convinient for scientific operations....\n",
    "a1 = np.array([1, 2, 3])\n",
    "a2 = np.array([4, 5, 6])\n",
    "\n",
    "# To add two array you can simply do it by\n",
    "print(\"ADD a1 and a2 elements : \", a1+a2)\n",
    "# To sub two array you can simply do it by\n",
    "print(\"SUB a1 and a2 elements : \", a1-a2)\n",
    "\n",
    "# To mul two array you can simply do it by\n",
    "print(\"MUL a1 and a2 elements : \", a1*a2)\n",
    "\n",
    "# Calculating time for NumPy array\n",
    "start = time.time()\n",
    "#result = arr1   arr2\n",
    "print(\"Time for NumPy array in msec: \", (time.time()- start) * 1000)"
   ]
  },
  {
   "cell_type": "markdown",
   "metadata": {},
   "source": [
    "### Intro NumPy and Making 1D arrays"
   ]
  },
  {
   "cell_type": "code",
   "execution_count": 2,
   "metadata": {},
   "outputs": [
    {
     "name": "stdout",
     "output_type": "stream",
     "text": [
      "[0 1 2 3 4 5]\n"
     ]
    }
   ],
   "source": [
    "a=np.arange(6) #Making a 1D array with Numpy\n",
    "print(a)"
   ]
  },
  {
   "cell_type": "code",
   "execution_count": 3,
   "metadata": {},
   "outputs": [
    {
     "name": "stdout",
     "output_type": "stream",
     "text": [
      "[ 1  3  5  7  9 11 13 15 17 19]\n"
     ]
    }
   ],
   "source": [
    "a=np.arange(1,20,2)\n",
    "# np.arange(start, stop, step)\n",
    "print(a)"
   ]
  },
  {
   "cell_type": "code",
   "execution_count": 4,
   "metadata": {},
   "outputs": [
    {
     "name": "stdout",
     "output_type": "stream",
     "text": [
      "[1 2 3 4 5]\n"
     ]
    }
   ],
   "source": [
    "list=[1, 2, 3, 4, 5]\n",
    "# Making an numpy array from list\n",
    "a = np.array(list)\n",
    "print(a)"
   ]
  },
  {
   "cell_type": "markdown",
   "metadata": {},
   "source": [
    "### Multi Dimensional Arrays"
   ]
  },
  {
   "cell_type": "code",
   "execution_count": 5,
   "metadata": {},
   "outputs": [
    {
     "name": "stdout",
     "output_type": "stream",
     "text": [
      "b= [[ 0.48129363 -0.0405042  -1.98462922]\n",
      " [ 0.8036488  -2.14936785  1.08768997]]\n"
     ]
    }
   ],
   "source": [
    "b=np.random.randn(2,3)\n",
    "#2×3 random matrix\n",
    "print(\"b=\",b)"
   ]
  },
  {
   "cell_type": "code",
   "execution_count": 9,
   "metadata": {},
   "outputs": [
    {
     "name": "stdout",
     "output_type": "stream",
     "text": [
      "b1= [[1 2 3]\n",
      " [3 4 4]]\n"
     ]
    }
   ],
   "source": [
    "b1=np.array([[1,2,3],[3,4,4]])\n",
    "# NumpY arrays from list\n",
    "print(\"b1=\",b1)"
   ]
  },
  {
   "cell_type": "code",
   "execution_count": 8,
   "metadata": {},
   "outputs": [
    {
     "name": "stdout",
     "output_type": "stream",
     "text": [
      "b2= [[2 4 6 8]\n",
      " [1 3 5 7]]\n"
     ]
    }
   ],
   "source": [
    "b2=[[2,4,6,8],[1,3,5,7]]\n",
    "b2_array=np.array(b2)\n",
    "print(\"b2=\",b2_array)"
   ]
  },
  {
   "cell_type": "code",
   "execution_count": 12,
   "metadata": {},
   "outputs": [
    {
     "name": "stdout",
     "output_type": "stream",
     "text": [
      "b3= [list([2, 4, 6, 8]) list([1, 3, 5, 7, 9])]\n"
     ]
    }
   ],
   "source": [
    "b3=[[2,4,6,8],[1,3,5,7,9]]\n",
    "b3_array=np.array(b3)\n",
    "print(\"b3=\",b3_array)\n",
    "#why result shows type as list 🤔"
   ]
  }
 ],
 "metadata": {
  "kernelspec": {
   "display_name": "Python 3",
   "language": "python",
   "name": "python3"
  },
  "language_info": {
   "codemirror_mode": {
    "name": "ipython",
    "version": 3
   },
   "file_extension": ".py",
   "mimetype": "text/x-python",
   "name": "python",
   "nbconvert_exporter": "python",
   "pygments_lexer": "ipython3",
   "version": "3.6.7"
  }
 },
 "nbformat": 4,
 "nbformat_minor": 2
}

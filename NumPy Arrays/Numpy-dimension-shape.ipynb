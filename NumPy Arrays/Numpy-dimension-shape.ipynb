{
 "cells": [
  {
   "cell_type": "code",
   "execution_count": 2,
   "metadata": {},
   "outputs": [
    {
     "name": "stdout",
     "output_type": "stream",
     "text": [
      "Dimension of array is  2\n",
      "Dimension of array is  1\n"
     ]
    }
   ],
   "source": [
    "import numpy as np\n",
    "#Numpy array dimension\n",
    "#every n×m matrices are 2D\n",
    "a=np.array([[1,2,3,4],[1,2,3,4],[1,2,3,5]])\n",
    "print(\"Dimension of array is \",np.ndim(a))\n",
    "a1=np.array([1,2,3,4])\n",
    "print(\"Dimension of array is \",np.ndim(a1))"
   ]
  },
  {
   "cell_type": "markdown",
   "metadata": {},
   "source": [
    "#### what is mean by dimension?\n",
    "* Data can be 2D, 3D or multidimensional.\n",
    "* An image is 2D representation of 3D object.\n",
    "* Video can be 3D\n",
    "* Voice can be multi dimensional\n",
    "* Numpy can used to process even data in complex plain"
   ]
  },
  {
   "cell_type": "code",
   "execution_count": 3,
   "metadata": {},
   "outputs": [
    {
     "name": "stdout",
     "output_type": "stream",
     "text": [
      "shape or order of array is  (3, 4)\n"
     ]
    }
   ],
   "source": [
    "##shape of array\n",
    "b=np.array([[1,2,3,4],[3,4,5,6],[23,24,45,3]])\n",
    "print(\"shape or order of array is \",np.shape(b))"
   ]
  },
  {
   "cell_type": "markdown",
   "metadata": {},
   "source": [
    "#### Shape of array\n",
    "Shape of array means what is the order of array. For example an array can be written as matrices. The matrices can have Row and column then the $R×C$ will be its shape or order."
   ]
  },
  {
   "cell_type": "code",
   "execution_count": 4,
   "metadata": {},
   "outputs": [
    {
     "name": "stdout",
     "output_type": "stream",
     "text": [
      "b= [[0. 0. 0.]\n",
      " [0. 0. 0.]\n",
      " [0. 0. 0.]]\n",
      "dtype of b= float64\n",
      "dtype of b1= int64\n"
     ]
    }
   ],
   "source": [
    "###Types and typecasting\n",
    "\n",
    "b=np.array(np.zeros((3,3)))\n",
    "print(\"b=\",b)\n",
    "print(\"dtype of b=\",b.dtype)\n",
    "b1=np.array(np.zeros((3,3)),dtype=np.int64)\n",
    "print(\"dtype of b1=\",b1.dtype)"
   ]
  },
  {
   "cell_type": "markdown",
   "metadata": {},
   "source": [
    "![img](img/Numpy-data-types.png)"
   ]
  }
 ],
 "metadata": {
  "kernelspec": {
   "display_name": "Python 3",
   "language": "python",
   "name": "python3"
  },
  "language_info": {
   "codemirror_mode": {
    "name": "ipython",
    "version": 3
   },
   "file_extension": ".py",
   "mimetype": "text/x-python",
   "name": "python",
   "nbconvert_exporter": "python",
   "pygments_lexer": "ipython3",
   "version": "3.7.2"
  }
 },
 "nbformat": 4,
 "nbformat_minor": 2
}

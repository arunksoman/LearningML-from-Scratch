{
 "cells": [
  {
   "cell_type": "markdown",
   "metadata": {},
   "source": [
    "### NumPy Special Matrices"
   ]
  },
  {
   "cell_type": "code",
   "execution_count": 1,
   "metadata": {},
   "outputs": [
    {
     "name": "stdout",
     "output_type": "stream",
     "text": [
      "a= [0. 0. 0. 0. 0. 0. 0.]\n",
      "a1= [[0. 0. 0.]\n",
      " [0. 0. 0.]\n",
      " [0. 0. 0.]]\n"
     ]
    }
   ],
   "source": [
    "import numpy as np\n",
    "\n",
    "#null matrix\n",
    "a=np.zeros(7)#default type is float\n",
    "print(\"a=\",a)\n",
    "a1=np.zeros((3,3))\n",
    "print(\"a1=\",a1)"
   ]
  },
  {
   "cell_type": "code",
   "execution_count": 2,
   "metadata": {},
   "outputs": [
    {
     "name": "stdout",
     "output_type": "stream",
     "text": [
      "a2= [0 0 0 0 0]\n"
     ]
    }
   ],
   "source": [
    "#zeros_like will make a new matrix with same shape(order) and dtype(data type).\n",
    "a2_test=[1,2,3,4,5] #here dtype is int\n",
    "a2=np.zeros_like(a2_test) #a2 will be 1×5 zero matrix with int dtype.\n",
    "print(\"a2=\",a2)"
   ]
  },
  {
   "cell_type": "code",
   "execution_count": 3,
   "metadata": {},
   "outputs": [
    {
     "name": "stdout",
     "output_type": "stream",
     "text": [
      "b= [1. 1. 1. 1. 1. 1. 1.]\n"
     ]
    }
   ],
   "source": [
    "#Matrix with all elements as 1\n",
    "b=np.ones(7)\n",
    "print(\"b=\",b)"
   ]
  },
  {
   "cell_type": "code",
   "execution_count": 4,
   "metadata": {},
   "outputs": [
    {
     "name": "stdout",
     "output_type": "stream",
     "text": [
      "b1= [[1. 1. 1. 1.]\n",
      " [1. 1. 1. 1.]\n",
      " [1. 1. 1. 1.]]\n"
     ]
    }
   ],
   "source": [
    "b1=np.ones((3,4))\n",
    "print(\"b1=\",b1)"
   ]
  },
  {
   "cell_type": "code",
   "execution_count": 5,
   "metadata": {},
   "outputs": [
    {
     "name": "stdout",
     "output_type": "stream",
     "text": [
      "b2= [[1 1 1]\n",
      " [1 1 1]\n",
      " [1 1 1]]\n"
     ]
    }
   ],
   "source": [
    "b2_test=[[1,2,3],[4,5,6],[3,4,5]]\n",
    "b2=np.ones_like(b2_test)\n",
    "print(\"b2=\",b2)"
   ]
  },
  {
   "cell_type": "code",
   "execution_count": 8,
   "metadata": {},
   "outputs": [
    {
     "name": "stdout",
     "output_type": "stream",
     "text": [
      "c= [[[nan nan  0.]\n",
      "  [ 0.  0.  0.]\n",
      "  [ 0.  0.  0.]]\n",
      "\n",
      " [[ 0.  0.  0.]\n",
      "  [ 0.  0.  0.]\n",
      "  [ 0.  0.  0.]]]\n"
     ]
    }
   ],
   "source": [
    "#empty and empty_like used for create new arrays by allocating new memory, but do not populate with any values like ones and   zeros\n",
    "c=np.zeros((3,6))\n",
    "#initialize 18 elements with zeros: 3×6 matrix\n",
    "#if c is not initialized with zeros it wll show garbage values\n",
    "c=np.empty((2,3,3))\n",
    "#empty((2,3,3)) creates two 3×3 matrices in where each 3×3 matrix stored in new memory location\n",
    "#if c is initialized with ones what happens???\n",
    "print(\"c=\",c)\n",
    "\n",
    "#There is also empty_like try it yourself..."
   ]
  },
  {
   "cell_type": "code",
   "execution_count": 9,
   "metadata": {},
   "outputs": [
    {
     "name": "stdout",
     "output_type": "stream",
     "text": [
      "d= [[10 10 10]\n",
      " [10 10 10]\n",
      " [10 10 10]]\n",
      "d1= [[11. 11. 11. 11.]\n",
      " [11. 11. 11. 11.]\n",
      " [11. 11. 11. 11.]\n",
      " [11. 11. 11. 11.]]\n"
     ]
    }
   ],
   "source": [
    "### Produce an array of the given shape and dtype with all values set to the indicated “fill value”\n",
    "\n",
    "d=np.full((3,3),10)\n",
    "print(\"d=\",d)\n",
    "\n",
    "d1_test=np.ones((4,4))\n",
    "d1=np.full_like((d1_test),11)\n",
    "print(\"d1=\",d1)"
   ]
  },
  {
   "cell_type": "code",
   "execution_count": 10,
   "metadata": {},
   "outputs": [
    {
     "name": "stdout",
     "output_type": "stream",
     "text": [
      "e= [[1. 0. 0. 0.]\n",
      " [0. 1. 0. 0.]\n",
      " [0. 0. 1. 0.]\n",
      " [0. 0. 0. 1.]]\n",
      "Index of identity matrix e is changed. i.e., e=\n",
      " [[0. 1. 0. 0.]\n",
      " [0. 0. 1. 0.]\n",
      " [0. 0. 0. 1.]\n",
      " [0. 0. 0. 0.]]\n",
      "e1= [[1. 0. 0. 0.]\n",
      " [0. 1. 0. 0.]\n",
      " [0. 0. 1. 0.]\n",
      " [0. 0. 0. 1.]]\n"
     ]
    }
   ],
   "source": [
    "##### Identity matrix\n",
    "e=np.eye(4)\n",
    "print(\"e=\",e)\n",
    "\n",
    "#we can change index of identity matrix as follows\n",
    "e=np.eye(4,k=1)\n",
    "print(\"Index of identity matrix e is changed. i.e., e=\\n\",e)\n",
    "## OR\n",
    "e1=np.identity(4)\n",
    "print(\"e1=\",e1)"
   ]
  }
 ],
 "metadata": {
  "kernelspec": {
   "display_name": "Python 3",
   "language": "python",
   "name": "python3"
  },
  "language_info": {
   "codemirror_mode": {
    "name": "ipython",
    "version": 3
   },
   "file_extension": ".py",
   "mimetype": "text/x-python",
   "name": "python",
   "nbconvert_exporter": "python",
   "pygments_lexer": "ipython3",
   "version": "3.7.2"
  }
 },
 "nbformat": 4,
 "nbformat_minor": 2
}
